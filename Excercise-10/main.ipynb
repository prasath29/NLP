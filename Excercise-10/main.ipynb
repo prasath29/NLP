{
 "cells": [
  {
   "cell_type": "code",
   "execution_count": 42,
   "metadata": {},
   "outputs": [],
   "source": [
    "from inltk.inltk import setup\n",
    "from inltk.inltk import tokenize"
   ]
  },
  {
   "cell_type": "code",
   "execution_count": 43,
   "metadata": {},
   "outputs": [],
   "source": [
    "example_sent = \"உங்களைப் பார்த்து நிறைய நாட்கள் ஆகிவிட்டது\""
   ]
  },
  {
   "cell_type": "code",
   "execution_count": 44,
   "metadata": {},
   "outputs": [
    {
     "data": {
      "text/plain": [
       "['▁உ', 'ங்களைப்', '▁பார்த்து', '▁நிறைய', '▁நாட்கள்', '▁ஆ', 'கி', 'விட்டது']"
      ]
     },
     "execution_count": 44,
     "metadata": {},
     "output_type": "execute_result"
    }
   ],
   "source": [
    "tokenize(example_sent, \"ta\")"
   ]
  },
  {
   "cell_type": "code",
   "execution_count": 52,
   "metadata": {},
   "outputs": [],
   "source": [
    "example1_sent = \"बहुत समय से मिले नहीं\""
   ]
  },
  {
   "cell_type": "code",
   "execution_count": 53,
   "metadata": {},
   "outputs": [
    {
     "data": {
      "text/plain": [
       "['▁बहुत', '▁समय', '▁से', '▁मिले', '▁नहीं']"
      ]
     },
     "execution_count": 53,
     "metadata": {},
     "output_type": "execute_result"
    }
   ],
   "source": [
    "tokenize(example1_sent,\"hi\")"
   ]
  },
  {
   "attachments": {},
   "cell_type": "markdown",
   "metadata": {},
   "source": [
    "# OR"
   ]
  },
  {
   "cell_type": "code",
   "execution_count": 47,
   "metadata": {},
   "outputs": [
    {
     "name": "stdout",
     "output_type": "stream",
     "text": [
      "['प्राचीन', 'काल', 'में', 'विक्रमादित्य', 'नाम', 'के', 'एक', 'आदर्श', 'राजा', 'हुआ', 'करते', 'थे।', 'अपने', 'साहस', ',', 'पराक्रम', 'और', 'शौर्य', 'के', 'लिए', 'राजा', 'विक्रम', 'मशहूर', 'थे।', 'ऐसा', 'भी', 'कहा', 'जाता', 'है', 'कि', 'राजा', 'विक्रम', 'अपनी', 'प्राजा', 'के', 'जीवन', 'के', 'दुख', 'दर्द', 'जानने', 'के', 'लिए', 'रात्री', 'के', 'पहर', 'में', 'भेष', 'बदल', 'कर', 'नगर', 'में', 'घूमते', 'थे।']\n"
     ]
    }
   ],
   "source": [
    "import nltk\n",
    "\n",
    "hindi_text = \"\"\"प्राचीन काल में विक्रमादित्य नाम के एक आदर्श राजा हुआ करते थे।\n",
    "अपने साहस, पराक्रम और शौर्य के लिए राजा विक्रम मशहूर थे। ऐसा भी कहा जाता है कि राजा विक्रम अपनी प्राजा के जीवन के दुख दर्द जानने के लिए रात्री के पहर में भेष बदल कर नगर में घूमते थे।\"\"\"\n",
    "\n",
    "tokens = nltk.word_tokenize(hindi_text)\n",
    "print(tokens)"
   ]
  },
  {
   "cell_type": "code",
   "execution_count": 48,
   "metadata": {},
   "outputs": [
    {
     "name": "stdout",
     "output_type": "stream",
     "text": [
      "['உங்களைப்', 'பார்த்து', 'நிறைய', 'நாட்கள்', 'ஆகிவிட்டது']\n"
     ]
    }
   ],
   "source": [
    "print(nltk.word_tokenize(example_sent))"
   ]
  },
  {
   "cell_type": "code",
   "execution_count": 49,
   "metadata": {},
   "outputs": [
    {
     "name": "stdout",
     "output_type": "stream",
     "text": [
      "['बहुत', 'समय', 'से', 'मिले', 'नहीं']\n"
     ]
    }
   ],
   "source": [
    "print(nltk.word_tokenize(example1_sent))"
   ]
  },
  {
   "cell_type": "code",
   "execution_count": null,
   "metadata": {},
   "outputs": [],
   "source": []
  }
 ],
 "metadata": {
  "kernelspec": {
   "display_name": "Python 3",
   "language": "python",
   "name": "python3"
  },
  "language_info": {
   "codemirror_mode": {
    "name": "ipython",
    "version": 3
   },
   "file_extension": ".py",
   "mimetype": "text/x-python",
   "name": "python",
   "nbconvert_exporter": "python",
   "pygments_lexer": "ipython3",
   "version": "3.10.7"
  },
  "orig_nbformat": 4
 },
 "nbformat": 4,
 "nbformat_minor": 2
}
