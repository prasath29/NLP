{
 "cells": [
  {
   "attachments": {},
   "cell_type": "markdown",
   "metadata": {},
   "source": [
    "# By Using Spacy"
   ]
  },
  {
   "cell_type": "code",
   "execution_count": 1,
   "metadata": {},
   "outputs": [],
   "source": [
    "import spacy"
   ]
  },
  {
   "cell_type": "code",
   "execution_count": 2,
   "metadata": {},
   "outputs": [],
   "source": [
    "nlp = spacy.load(\"en_core_web_sm\")"
   ]
  },
  {
   "cell_type": "code",
   "execution_count": 3,
   "metadata": {},
   "outputs": [],
   "source": [
    "interrogative_sentence = input(\"Enter an interrogative Sentence.\")\n"
   ]
  },
  {
   "cell_type": "code",
   "execution_count": 4,
   "metadata": {},
   "outputs": [],
   "source": [
    "declarative_sentence = input(\"Enter an declarative Sentence.\")"
   ]
  },
  {
   "cell_type": "code",
   "execution_count": 5,
   "metadata": {},
   "outputs": [],
   "source": [
    "complex_sentence = input(\"Enter an complex sentence using conjunction.\")\n"
   ]
  },
  {
   "cell_type": "code",
   "execution_count": 6,
   "metadata": {},
   "outputs": [],
   "source": [
    "interrogative_doc = nlp(interrogative_sentence)\n"
   ]
  },
  {
   "cell_type": "code",
   "execution_count": 7,
   "metadata": {},
   "outputs": [],
   "source": [
    "declarative_doc = nlp(declarative_sentence)\n"
   ]
  },
  {
   "cell_type": "code",
   "execution_count": 8,
   "metadata": {},
   "outputs": [],
   "source": [
    "complex_doc = nlp(complex_sentence)\n"
   ]
  },
  {
   "cell_type": "code",
   "execution_count": 9,
   "metadata": {},
   "outputs": [
    {
     "name": "stdout",
     "output_type": "stream",
     "text": [
      "Do VERB\n",
      "what PRON\n",
      "i PRON\n",
      "say VERB\n",
      "\n",
      "\n"
     ]
    }
   ],
   "source": [
    "for token in interrogative_doc:\n",
    "    print(token.text, token.pos_)\n",
    "print(\"\\n\")"
   ]
  },
  {
   "cell_type": "code",
   "execution_count": 10,
   "metadata": {},
   "outputs": [
    {
     "name": "stdout",
     "output_type": "stream",
     "text": [
      "Do VERB\n",
      "What PRON\n",
      "to PART\n",
      "do VERB\n",
      "\n",
      "\n"
     ]
    }
   ],
   "source": [
    "for token in declarative_doc:\n",
    "    print(token.text, token.pos_)\n",
    "print(\"\\n\")"
   ]
  },
  {
   "cell_type": "code",
   "execution_count": 11,
   "metadata": {},
   "outputs": [
    {
     "name": "stdout",
     "output_type": "stream",
     "text": [
      "What PRON\n",
      "is AUX\n",
      "going VERB\n",
      "on ADP\n"
     ]
    }
   ],
   "source": [
    "for token in complex_doc:\n",
    "    print(token.text, token.pos_)"
   ]
  },
  {
   "attachments": {},
   "cell_type": "markdown",
   "metadata": {},
   "source": [
    "# By using NLTK"
   ]
  },
  {
   "cell_type": "code",
   "execution_count": 12,
   "metadata": {},
   "outputs": [],
   "source": [
    "import nltk"
   ]
  },
  {
   "cell_type": "code",
   "execution_count": 13,
   "metadata": {},
   "outputs": [],
   "source": [
    "interrogative_sentence = input(\"Enter an interrogative Sentence.\")\n"
   ]
  },
  {
   "cell_type": "code",
   "execution_count": 16,
   "metadata": {},
   "outputs": [
    {
     "name": "stdout",
     "output_type": "stream",
     "text": [
      "Are you going to the party tonight?\n"
     ]
    }
   ],
   "source": [
    "print(interrogative_sentence)"
   ]
  },
  {
   "cell_type": "code",
   "execution_count": 20,
   "metadata": {},
   "outputs": [
    {
     "name": "stdout",
     "output_type": "stream",
     "text": [
      "('Are', 'NNP')\n",
      "('you', 'PRP')\n",
      "('going', 'VBG')\n",
      "('to', 'TO')\n",
      "('the', 'DT')\n",
      "('party', 'NN')\n",
      "('tonight', 'NN')\n",
      "('?', '.')\n"
     ]
    }
   ],
   "source": [
    "tokens = nltk.word_tokenize(interrogative_sentence)\n",
    "pos_tags = nltk.pos_tag(tokens)\n",
    "for ele in pos_tags:\n",
    "    print(ele)"
   ]
  },
  {
   "cell_type": "code",
   "execution_count": 18,
   "metadata": {},
   "outputs": [],
   "source": [
    "declarative_sentence = input(\"Enter an declarative Sentence.\")"
   ]
  },
  {
   "cell_type": "code",
   "execution_count": 21,
   "metadata": {},
   "outputs": [
    {
     "name": "stdout",
     "output_type": "stream",
     "text": [
      "('She', 'PRP')\n",
      "('walked', 'VBD')\n",
      "('to', 'TO')\n",
      "('the', 'DT')\n",
      "('store', 'NN')\n",
      "('to', 'TO')\n",
      "('buy', 'VB')\n",
      "('groceries', 'NNS')\n",
      "('.', '.')\n"
     ]
    }
   ],
   "source": [
    "tokens = nltk.word_tokenize(declarative_sentence)\n",
    "pos_tags = nltk.pos_tag(tokens)\n",
    "for ele in pos_tags:\n",
    "    print(ele)"
   ]
  },
  {
   "cell_type": "code",
   "execution_count": 22,
   "metadata": {},
   "outputs": [],
   "source": [
    "complex_sentence = input(\"Enter an complex sentence using conjunction.\")"
   ]
  },
  {
   "cell_type": "code",
   "execution_count": 23,
   "metadata": {},
   "outputs": [
    {
     "name": "stdout",
     "output_type": "stream",
     "text": [
      "('I', 'PRP')\n",
      "('went', 'VBD')\n",
      "('to', 'TO')\n",
      "('the', 'DT')\n",
      "('gym', 'NN')\n",
      "(',', ',')\n",
      "('but', 'CC')\n",
      "('I', 'PRP')\n",
      "('forgot', 'VBP')\n",
      "('my', 'PRP$')\n",
      "('water', 'NN')\n",
      "('bottle', 'NN')\n",
      "(',', ',')\n",
      "('so', 'IN')\n",
      "('I', 'PRP')\n",
      "('had', 'VBD')\n",
      "('to', 'TO')\n",
      "('buy', 'VB')\n",
      "('one', 'CD')\n",
      "('from', 'IN')\n",
      "('the', 'DT')\n",
      "('vending', 'NN')\n",
      "('machine', 'NN')\n",
      "('.', '.')\n"
     ]
    }
   ],
   "source": [
    "tokens = nltk.word_tokenize(complex_sentence)\n",
    "pos_tags = nltk.pos_tag(tokens)\n",
    "for ele in pos_tags:\n",
    "    print(ele)"
   ]
  }
 ],
 "metadata": {
  "kernelspec": {
   "display_name": "Python 3",
   "language": "python",
   "name": "python3"
  },
  "language_info": {
   "codemirror_mode": {
    "name": "ipython",
    "version": 3
   },
   "file_extension": ".py",
   "mimetype": "text/x-python",
   "name": "python",
   "nbconvert_exporter": "python",
   "pygments_lexer": "ipython3",
   "version": "3.10.7"
  },
  "orig_nbformat": 4
 },
 "nbformat": 4,
 "nbformat_minor": 2
}
