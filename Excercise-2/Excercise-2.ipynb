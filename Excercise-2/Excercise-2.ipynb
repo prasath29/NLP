{
 "cells": [
  {
   "cell_type": "code",
   "execution_count": 2,
   "metadata": {},
   "outputs": [],
   "source": [
    "import spacy"
   ]
  },
  {
   "cell_type": "code",
   "execution_count": 3,
   "metadata": {},
   "outputs": [],
   "source": [
    "model = spacy.load('en_core_web_sm')\n"
   ]
  },
  {
   "attachments": {},
   "cell_type": "markdown",
   "metadata": {},
   "source": [
    "By using a user input"
   ]
  },
  {
   "cell_type": "code",
   "execution_count": 4,
   "metadata": {},
   "outputs": [],
   "source": [
    "sentence = input(\"Enter a Sentence.\")"
   ]
  },
  {
   "cell_type": "code",
   "execution_count": 5,
   "metadata": {},
   "outputs": [],
   "source": [
    "tokens = model(sentence)"
   ]
  },
  {
   "cell_type": "code",
   "execution_count": 6,
   "metadata": {},
   "outputs": [
    {
     "name": "stdout",
     "output_type": "stream",
     "text": [
      "I PRON PRP\n",
      "will AUX MD\n",
      "kill VERB VB\n",
      "you PRON PRP\n"
     ]
    }
   ],
   "source": [
    "for token in tokens:\n",
    "    print(token,token.pos_,token.tag_)"
   ]
  },
  {
   "attachments": {},
   "cell_type": "markdown",
   "metadata": {},
   "source": [
    "By using a file"
   ]
  },
  {
   "cell_type": "code",
   "execution_count": 8,
   "metadata": {},
   "outputs": [
    {
     "name": "stdout",
     "output_type": "stream",
     "text": [
      "What \n",
      "pos:  pronoun \n",
      "tag:  wh-pronoun, personal \n",
      "\n",
      "is \n",
      "pos:  auxiliary \n",
      "tag:  verb, 3rd person singular present \n",
      "\n",
      "your \n",
      "pos:  pronoun \n",
      "tag:  pronoun, possessive \n",
      "\n",
      "name \n",
      "pos:  noun \n",
      "tag:  noun, singular or mass \n",
      "\n",
      "? \n",
      "pos:  punctuation \n",
      "tag:  punctuation mark, sentence closer \n",
      "\n",
      "DO \n",
      "pos:  verb \n",
      "tag:  verb, base form \n",
      "\n",
      "what \n",
      "pos:  pronoun \n",
      "tag:  wh-pronoun, personal \n",
      "\n",
      "I \n",
      "pos:  pronoun \n",
      "tag:  pronoun, personal \n",
      "\n",
      "say \n",
      "pos:  verb \n",
      "tag:  verb, non-3rd person singular present \n",
      "\n",
      ". \n",
      "pos:  punctuation \n",
      "tag:  punctuation mark, sentence closer \n",
      "\n"
     ]
    }
   ],
   "source": [
    "file = open('nlp.txt')\n",
    "for line in file.readlines():\n",
    "    tokens = model(line)\n",
    "    for token in tokens:\n",
    "        print(token,\"\\npos: \",spacy.explain(token.pos_),\"\\ntag: \",spacy.explain(token.tag_),\"\\n\")"
   ]
  },
  {
   "cell_type": "code",
   "execution_count": null,
   "metadata": {},
   "outputs": [],
   "source": []
  }
 ],
 "metadata": {
  "kernelspec": {
   "display_name": "Python 3",
   "language": "python",
   "name": "python3"
  },
  "language_info": {
   "codemirror_mode": {
    "name": "ipython",
    "version": 3
   },
   "file_extension": ".py",
   "mimetype": "text/x-python",
   "name": "python",
   "nbconvert_exporter": "python",
   "pygments_lexer": "ipython3",
   "version": "3.10.7"
  },
  "orig_nbformat": 4
 },
 "nbformat": 4,
 "nbformat_minor": 2
}
