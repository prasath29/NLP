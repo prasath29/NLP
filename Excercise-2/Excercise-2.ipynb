{
 "cells": [
  {
   "attachments": {},
   "cell_type": "markdown",
   "metadata": {},
   "source": [
    "# By using Spacy"
   ]
  },
  {
   "cell_type": "code",
   "execution_count": 18,
   "metadata": {},
   "outputs": [],
   "source": [
    "import spacy"
   ]
  },
  {
   "cell_type": "code",
   "execution_count": 19,
   "metadata": {},
   "outputs": [],
   "source": [
    "model = spacy.load('en_core_web_sm')\n"
   ]
  },
  {
   "attachments": {},
   "cell_type": "markdown",
   "metadata": {},
   "source": [
    "By using a user input"
   ]
  },
  {
   "cell_type": "code",
   "execution_count": 20,
   "metadata": {},
   "outputs": [],
   "source": [
    "sentence = input(\"Enter a Sentence.\")"
   ]
  },
  {
   "cell_type": "code",
   "execution_count": 21,
   "metadata": {},
   "outputs": [],
   "source": [
    "tokens = model(sentence)"
   ]
  },
  {
   "cell_type": "code",
   "execution_count": 22,
   "metadata": {},
   "outputs": [
    {
     "name": "stdout",
     "output_type": "stream",
     "text": [
      "I PRON PRP\n",
      "will AUX MD\n",
      "kill VERB VB\n",
      "you PRON PRP\n"
     ]
    }
   ],
   "source": [
    "for token in tokens:\n",
    "    print(token,token.pos_,token.tag_)"
   ]
  },
  {
   "attachments": {},
   "cell_type": "markdown",
   "metadata": {},
   "source": [
    "By using a file"
   ]
  },
  {
   "cell_type": "code",
   "execution_count": 23,
   "metadata": {},
   "outputs": [
    {
     "name": "stdout",
     "output_type": "stream",
     "text": [
      "What \n",
      "pos:  pronoun \n",
      "tag:  wh-pronoun, personal \n",
      "\n",
      "is \n",
      "pos:  auxiliary \n",
      "tag:  verb, 3rd person singular present \n",
      "\n",
      "your \n",
      "pos:  pronoun \n",
      "tag:  pronoun, possessive \n",
      "\n",
      "name \n",
      "pos:  noun \n",
      "tag:  noun, singular or mass \n",
      "\n",
      "? \n",
      "pos:  punctuation \n",
      "tag:  punctuation mark, sentence closer \n",
      "\n",
      "DO \n",
      "pos:  verb \n",
      "tag:  verb, base form \n",
      "\n",
      "what \n",
      "pos:  pronoun \n",
      "tag:  wh-pronoun, personal \n",
      "\n",
      "I \n",
      "pos:  pronoun \n",
      "tag:  pronoun, personal \n",
      "\n",
      "say \n",
      "pos:  verb \n",
      "tag:  verb, non-3rd person singular present \n",
      "\n",
      ". \n",
      "pos:  punctuation \n",
      "tag:  punctuation mark, sentence closer \n",
      "\n"
     ]
    }
   ],
   "source": [
    "file = open('nlp.txt')\n",
    "for line in file.readlines():\n",
    "    tokens = model(line)\n",
    "    for token in tokens:\n",
    "        print(token,\"\\npos: \",spacy.explain(token.pos_),\"\\ntag: \",spacy.explain(token.tag_),\"\\n\")"
   ]
  },
  {
   "attachments": {},
   "cell_type": "markdown",
   "metadata": {},
   "source": [
    "# By using a NLTK"
   ]
  },
  {
   "cell_type": "code",
   "execution_count": 24,
   "metadata": {},
   "outputs": [],
   "source": [
    "import nltk"
   ]
  },
  {
   "cell_type": "code",
   "execution_count": 25,
   "metadata": {},
   "outputs": [],
   "source": [
    "sentence = input(\"Enter a sentence.\")"
   ]
  },
  {
   "cell_type": "code",
   "execution_count": 26,
   "metadata": {},
   "outputs": [
    {
     "name": "stdout",
     "output_type": "stream",
     "text": [
      "('I', 'PR')\n",
      "('will', 'MD')\n",
      "('Kill', 'VB')\n",
      "('you', 'PR')\n"
     ]
    }
   ],
   "source": [
    "# coarse grained\n",
    "tokens = nltk.word_tokenize(sentence)\n",
    "pos_tags = nltk.pos_tag(tokens)\n",
    "coarse_pos_tags = [(word, pos[:2]) for word, pos in pos_tags]\n",
    "for ele in coarse_pos_tags:\n",
    "    print(ele)"
   ]
  },
  {
   "cell_type": "code",
   "execution_count": 27,
   "metadata": {},
   "outputs": [],
   "source": [
    "# Fine grained\n",
    "sentence = input(\"Enter a sentence\")"
   ]
  },
  {
   "cell_type": "code",
   "execution_count": 28,
   "metadata": {},
   "outputs": [
    {
     "name": "stdout",
     "output_type": "stream",
     "text": [
      "('I', 'PRP')\n",
      "('will', 'MD')\n",
      "('KIll', 'VB')\n",
      "('you', 'PRP')\n"
     ]
    }
   ],
   "source": [
    "tokens = nltk.word_tokenize(sentence)\n",
    "pos_tags = nltk.pos_tag(tokens)\n",
    "for ele in pos_tags:\n",
    "    print(ele)"
   ]
  },
  {
   "cell_type": "code",
   "execution_count": 39,
   "metadata": {},
   "outputs": [
    {
     "name": "stdout",
     "output_type": "stream",
     "text": [
      "('What', 'WP', 'WP')\n",
      "('is', 'VB', 'VBZ')\n",
      "('your', 'PR', 'PRP$')\n",
      "('name', 'NN', 'NN')\n",
      "('?', '.', '.')\n",
      "('DO', 'VB', 'VBP')\n",
      "('what', 'WP', 'WP')\n",
      "('I', 'PR', 'PRP')\n",
      "('say', 'VB', 'VBP')\n",
      "('.', '.', '.')\n"
     ]
    }
   ],
   "source": [
    "file = open('nlp.txt')\n",
    "for line in file.readlines():\n",
    "    tokens = model(line)\n",
    "    tok = nltk.word_tokenize(str(tokens))\n",
    "    pos_tags = nltk.pos_tag(tok) \n",
    "    coarse_pos_tags = [(word, pos[:2],pos) for word, pos in pos_tags]\n",
    "    for ele in coarse_pos_tags:\n",
    "        print(ele)"
   ]
  },
  {
   "cell_type": "code",
   "execution_count": null,
   "metadata": {},
   "outputs": [],
   "source": []
  }
 ],
 "metadata": {
  "kernelspec": {
   "display_name": "Python 3",
   "language": "python",
   "name": "python3"
  },
  "language_info": {
   "codemirror_mode": {
    "name": "ipython",
    "version": 3
   },
   "file_extension": ".py",
   "mimetype": "text/x-python",
   "name": "python",
   "nbconvert_exporter": "python",
   "pygments_lexer": "ipython3",
   "version": "3.10.7"
  },
  "orig_nbformat": 4
 },
 "nbformat": 4,
 "nbformat_minor": 2
}
